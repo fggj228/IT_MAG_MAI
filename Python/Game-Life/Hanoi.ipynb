{
 "cells": [
  {
   "cell_type": "code",
   "execution_count": 1,
   "metadata": {},
   "outputs": [
    {
     "name": "stdout",
     "output_type": "stream",
     "text": [
      "3\n",
      "1 1 3\n",
      "0 1 3\n",
      "1 1 3\n",
      "1 3 2\n",
      "0 1 3\n",
      "1 2 1\n",
      "1 1 3\n",
      "0 1 3\n",
      "1 1 3\n"
     ]
    }
   ],
   "source": [
    "def f(n,x,y):\n",
    "    if n > 0:\n",
    "        if n == 1:\n",
    "            print(n, x, y)\n",
    "        else:\n",
    "            f(n - 1, x, y)\n",
    "            f(n - 2, y, 6 - x - y)\n",
    "            print(0, x, y)\n",
    "            f(n - 2, 6 - x - y, x)\n",
    "            f(n - 1, x, y)\n",
    "\n",
    "n = int(input())\n",
    "f(n,1,3)"
   ]
  },
  {
   "cell_type": "code",
   "execution_count": 6,
   "metadata": {},
   "outputs": [
    {
     "name": "stdout",
     "output_type": "stream",
     "text": [
      "3\n",
      "итерация 1 откуда 1 куда 3\n",
      "итерация 2 откуда 1 куда 3\n",
      "итерация 3 откуда 3 куда 3\n",
      "итерация 4 откуда 1 куда 3\n",
      "итерация 5 откуда 3 куда 1\n",
      "итерация 6 откуда 3 куда 3\n",
      "итерация 7 откуда 1 куда 3\n"
     ]
    }
   ],
   "source": [
    "it = 0\n",
    "def hanoi(n, fro, to, additional) :\n",
    "    global it\n",
    "    if (n == 0) : \n",
    "        it += 1\n",
    "        return\n",
    "    \n",
    "    hanoi(n-1,fro,additional,to)\n",
    "    print(\"итерация\",it,\"откуда\", fro,\"куда\", to) \n",
    "    hanoi(n-1,additional,to,fro)\n",
    "\n",
    "n = int(input())\n",
    "hanoi(n,1,3,3)"
   ]
  },
  {
   "cell_type": "code",
   "execution_count": null,
   "metadata": {},
   "outputs": [],
   "source": []
  }
 ],
 "metadata": {
  "kernelspec": {
   "display_name": "Python 3",
   "language": "python",
   "name": "python3"
  },
  "language_info": {
   "codemirror_mode": {
    "name": "ipython",
    "version": 3
   },
   "file_extension": ".py",
   "mimetype": "text/x-python",
   "name": "python",
   "nbconvert_exporter": "python",
   "pygments_lexer": "ipython3",
   "version": "3.7.3"
  }
 },
 "nbformat": 4,
 "nbformat_minor": 2
}
